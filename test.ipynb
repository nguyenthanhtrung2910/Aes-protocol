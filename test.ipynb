{
 "cells": [
  {
   "cell_type": "code",
   "execution_count": 18,
   "metadata": {},
   "outputs": [],
   "source": [
    "!git clone https://github.com/nguyenthanhtrung2910/aes\n",
    "cd aes"
   ]
  },
  {
   "cell_type": "code",
   "execution_count": null,
   "metadata": {},
   "outputs": [],
   "source": [
    "import aes"
   ]
  },
  {
   "cell_type": "markdown",
   "metadata": {},
   "source": [
    "Тестирует операции с блоками AES-128.\n",
    "Смотрим совпадают ли открытый текст и текст после дешифрования"
   ]
  },
  {
   "cell_type": "code",
   "execution_count": 19,
   "metadata": {},
   "outputs": [
    {
     "name": "stdout",
     "output_type": "stream",
     "text": [
      "совпадают ли открытый текст и текст после дешифрования?: True\n"
     ]
    }
   ],
   "source": [
    "message = b'\\x32\\x43\\xF6\\xA8\\x88\\x5A\\x30\\x8D\\x31\\x31\\x98\\xA2\\xE0\\x37\\x07\\x34'\n",
    "key128     = b'\\x2B\\x7E\\x15\\x16\\x28\\xAE\\xD2\\xA6\\xAB\\xF7\\x15\\x88\\x09\\xCF\\x4F\\x3C'\n",
    "raw_aes128 = aes.AES(bytes(key128))\n",
    "ciphertext = raw_aes128.encrypt_block(bytes(message))\n",
    "plaintext = raw_aes128.decrypt_block(bytes(ciphertext))\n",
    "print(\"совпадают ли открытый текст и текст после дешифрования?:\",message==plaintext)"
   ]
  },
  {
   "cell_type": "markdown",
   "metadata": {},
   "source": [
    "Смотрим ключ"
   ]
  },
  {
   "cell_type": "code",
   "execution_count": 20,
   "metadata": {},
   "outputs": [
    {
     "name": "stdout",
     "output_type": "stream",
     "text": [
      "исходный ключ шифра: b'+~\\x15\\x16(\\xae\\xd2\\xa6\\xab\\xf7\\x15\\x88\\t\\xcfO<'\n"
     ]
    }
   ],
   "source": [
    "print(\"исходный ключ шифра:\",raw_aes128.master_key)"
   ]
  },
  {
   "cell_type": "markdown",
   "metadata": {},
   "source": [
    "Тест для шифра AES-192"
   ]
  },
  {
   "cell_type": "code",
   "execution_count": 21,
   "metadata": {},
   "outputs": [
    {
     "name": "stdout",
     "output_type": "stream",
     "text": [
      "совпадают ли открытый текст и текст после дешифрования?: True\n"
     ]
    }
   ],
   "source": [
    "message = b'\\x00\\x11\\x22\\x33\\x44\\x55\\x66\\x77\\x88\\x99\\xAA\\xBB\\xCC\\xDD\\xEE\\xFF'\n",
    "raw_aes192 = aes.AES(b'\\x00\\x01\\x02\\x03\\x04\\x05\\x06\\x07\\x08\\x09\\x0a\\x0b\\x0c\\x0d\\x0e\\x0f\\x10\\x11\\x12\\x13\\x14\\x15\\x16\\x17')\n",
    "ciphertext = raw_aes192.encrypt_block(bytes(message))\n",
    "plaintext = raw_aes192.decrypt_block(bytes(ciphertext))\n",
    "print(\"совпадают ли открытый текст и текст после дешифрования?:\",message==plaintext)"
   ]
  },
  {
   "cell_type": "markdown",
   "metadata": {},
   "source": [
    "Тест для шифра AES-256\n"
   ]
  },
  {
   "cell_type": "code",
   "execution_count": 22,
   "metadata": {},
   "outputs": [
    {
     "name": "stdout",
     "output_type": "stream",
     "text": [
      "совпадают ли открытый текст и текст после дешифрования?: True\n"
     ]
    }
   ],
   "source": [
    "message = b'\\x00\\x11\\x22\\x33\\x44\\x55\\x66\\x77\\x88\\x99\\xAA\\xBB\\xCC\\xDD\\xEE\\xFF'\n",
    "raw_aes256 = aes.AES(b'\\x00\\x01\\x02\\x03\\x04\\x05\\x06\\x07\\x08\\x09\\x0a\\x0b\\x0c\\x0d\\x0e\\x0f\\x10\\x11\\x12\\x13\\x14\\x15\\x16\\x17\\x18\\x19\\x1a\\x1b\\x1c\\x1d\\x1e\\x1f')\n",
    "ciphertext = raw_aes256.encrypt_block(bytes(message))\n",
    "plaintext = raw_aes256.decrypt_block(bytes(ciphertext))\n",
    "print(\"совпадают ли открытый текст и текст после дешифрования?:\",message==plaintext)"
   ]
  },
  {
   "cell_type": "markdown",
   "metadata": {},
   "source": [
    "Тест шифр AES-128 в CBC режиме. Когда длина открытого текста короче длины блока, шифр не создаёт новый блок"
   ]
  },
  {
   "cell_type": "code",
   "execution_count": 23,
   "metadata": {},
   "outputs": [
    {
     "name": "stdout",
     "output_type": "stream",
     "text": [
      "совпадают ли открытый текст и текст после дешифрования?: True\n",
      "длина открытого текста: 10\n",
      "длина шифртекста: 16\n"
     ]
    }
   ],
   "source": [
    "aes_in_CBC = aes.AES(b'\\x00' * 16)\n",
    "iv = b'\\x01' * 16\n",
    "message = b'my message'\n",
    "ciphertext = aes_in_CBC.encrypt_cbc(message, iv)\n",
    "print(\"совпадают ли открытый текст и текст после дешифрования?:\",aes_in_CBC.decrypt_cbc(ciphertext, iv)==message)\n",
    "print(\"длина открытого текста:\",len(message))\n",
    "print(\"длина шифртекста:\",len(ciphertext))"
   ]
  },
  {
   "cell_type": "markdown",
   "metadata": {},
   "source": [
    "Когда длина открытого текста равна длине блока шифр создаёт новый блок"
   ]
  },
  {
   "cell_type": "code",
   "execution_count": 24,
   "metadata": {},
   "outputs": [
    {
     "name": "stdout",
     "output_type": "stream",
     "text": [
      "совпадают ли открытый текст и текст после дешифрования?: True\n",
      "длина открытого текста: 16\n",
      "длина шифртекста: 32\n"
     ]
    }
   ],
   "source": [
    "block_message = b'M' * 16\n",
    "ciphertext = aes_in_CBC.encrypt_cbc(block_message, iv)\n",
    "print(\"совпадают ли открытый текст и текст после дешифрования?:\",aes_in_CBC.decrypt_cbc(ciphertext, iv)==block_message)\n",
    "print(\"длина открытого текста:\",len(block_message))\n",
    "print(\"длина шифртекста:\",len(ciphertext))"
   ]
  },
  {
   "cell_type": "code",
   "execution_count": 26,
   "metadata": {},
   "outputs": [
    {
     "name": "stdout",
     "output_type": "stream",
     "text": [
      "разные веткторы инициализации дают разные шифртексты?: True\n",
      "дешифрования разных шифртекстов дают одинаковый открытый текст?: True\n"
     ]
    }
   ],
   "source": [
    "iv2 = b'\\x02' * 16\n",
    "ciphertext1 = aes_in_CBC.encrypt_cbc(message, iv)\n",
    "ciphertext2 = aes_in_CBC.encrypt_cbc(message, iv2)\n",
    "print(\"разные веткторы инициализации дают разные шифртексты?:\", ciphertext1!=ciphertext2)\n",
    "plaintext1 = aes_in_CBC.decrypt_cbc(ciphertext1, iv)\n",
    "plaintext2 = aes_in_CBC.decrypt_cbc(ciphertext2, iv2)\n",
    "print(\"дешифрования разных шифртекстов дают одинаковый открытый текст?:\", plaintext1==plaintext2)"
   ]
  },
  {
   "cell_type": "markdown",
   "metadata": {},
   "source": [
    "Тест на длинном открытом тексте"
   ]
  },
  {
   "cell_type": "code",
   "execution_count": 27,
   "metadata": {},
   "outputs": [
    {
     "name": "stdout",
     "output_type": "stream",
     "text": [
      "совпадают ли открытый текст и текст после дешифрования?: True\n"
     ]
    }
   ],
   "source": [
    "long_message= b'M'*100\n",
    "long_ciphertext= aes_in_CBC.encrypt_cbc(long_message,iv)\n",
    "print(\"совпадают ли открытый текст и текст после дешифрования?:\",aes_in_CBC.decrypt_cbc(long_ciphertext, iv)==long_message)"
   ]
  }
 ],
 "metadata": {
  "kernelspec": {
   "display_name": "Python 3.10.2 64-bit",
   "language": "python",
   "name": "python3"
  },
  "language_info": {
   "codemirror_mode": {
    "name": "ipython",
    "version": 3
   },
   "file_extension": ".py",
   "mimetype": "text/x-python",
   "name": "python",
   "nbconvert_exporter": "python",
   "pygments_lexer": "ipython3",
   "version": "3.10.2"
  },
  "orig_nbformat": 4,
  "vscode": {
   "interpreter": {
    "hash": "c3ecca60f59aa08c4b468889ce73e09f0f174e1f73c8455566e03c2f1cc9bae2"
   }
  }
 },
 "nbformat": 4,
 "nbformat_minor": 2
}
